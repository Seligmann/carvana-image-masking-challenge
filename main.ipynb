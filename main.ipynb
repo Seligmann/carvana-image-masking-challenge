{
  "nbformat": 4,
  "nbformat_minor": 0,
  "metadata": {
    "accelerator": "GPU",
    "colab": {
      "name": "main.ipynb",
      "provenance": [],
      "collapsed_sections": [],
      "include_colab_link": true
    },
    "kernelspec": {
      "display_name": "Python 3",
      "name": "python3"
    },
    "language_info": {
      "name": "python"
    }
  },
  "cells": [
    {
      "cell_type": "markdown",
      "metadata": {
        "id": "view-in-github",
        "colab_type": "text"
      },
      "source": [
        "<a href=\"https://colab.research.google.com/github/Seligmann/carvana-image-masking-challenge/blob/main/main.ipynb\" target=\"_parent\"><img src=\"https://colab.research.google.com/assets/colab-badge.svg\" alt=\"Open In Colab\"/></a>"
      ]
    },
    {
      "cell_type": "code",
      "metadata": {
        "colab": {
          "base_uri": "https://localhost:8080/"
        },
        "id": "pNLSVYeKSriX",
        "outputId": "a4264377-1f67-4150-c912-37b3478a84e8"
      },
      "source": [
        "from google.colab import drive\n",
        "drive.mount('/content/drive')"
      ],
      "execution_count": 12,
      "outputs": [
        {
          "output_type": "stream",
          "name": "stdout",
          "text": [
            "Drive already mounted at /content/drive; to attempt to forcibly remount, call drive.mount(\"/content/drive\", force_remount=True).\n"
          ]
        }
      ]
    },
    {
      "cell_type": "code",
      "metadata": {
        "id": "hrrfjCKxc1-O"
      },
      "source": [
        "import tensorflow as tf\n",
        "from tensorflow.keras.layers.experimental import preprocessing \n",
        "import os\n",
        "# import PIL\n",
        "import numpy as np\n",
        "import pathlib\n",
        "import pandas as pd\n",
        "\n",
        "import tensorflow_datasets as tfds\n",
        "from PIL import Image\n",
        "import cv2"
      ],
      "execution_count": 13,
      "outputs": []
    },
    {
      "cell_type": "code",
      "metadata": {
        "id": "nKZQPXmFWE8G"
      },
      "source": [
        "from IPython.display import clear_output\n",
        "import matplotlib.pyplot as plt"
      ],
      "execution_count": 14,
      "outputs": []
    },
    {
      "cell_type": "code",
      "metadata": {
        "id": "6Jz8SrtHqkmj"
      },
      "source": [
        "import os\n",
        "\n",
        "# # Upload the API token.\n",
        "# def get_kaggle_credentials():\n",
        "#   token_dir = os.path.join(os.path.expanduser(\"~\"),\".kaggle\")\n",
        "#   token_file = os.path.join(token_dir, \"kaggle.json\")\n",
        "#   if not os.path.isdir(token_dir):\n",
        "#     os.mkdir(token_dir)\n",
        "#   try:\n",
        "#     with open(token_file,'r') as f:\n",
        "#       pass\n",
        "#   except IOError as no_file:\n",
        "#     try:\n",
        "#       from google.colab import files\n",
        "#     except ImportError:\n",
        "#       raise no_file\n",
        "    \n",
        "#     uploaded = files.upload()\n",
        "    \n",
        "#     if \"kaggle.json\" not in uploaded:\n",
        "#       raise ValueError(\"You need an API key! see: \"\n",
        "#                        \"https://github.com/Kaggle/kaggle-api#api-credentials\")\n",
        "#     with open(token_file, \"wb\") as f:\n",
        "#       f.write(uploaded[\"kaggle.json\"])\n",
        "#     os.chmod(token_file, 600)\n",
        "\n",
        "# get_kaggle_credentials()"
      ],
      "execution_count": 15,
      "outputs": []
    },
    {
      "cell_type": "code",
      "metadata": {
        "id": "ju6gPpLSvvkc"
      },
      "source": [
        "# import kaggle"
      ],
      "execution_count": 16,
      "outputs": []
    },
    {
      "cell_type": "code",
      "metadata": {
        "id": "YzrXci7lM26d"
      },
      "source": [
        "# Download competition data to /content\n",
        "# !kaggle competitions download -c carvana-image-masking-challenge"
      ],
      "execution_count": 17,
      "outputs": []
    },
    {
      "cell_type": "code",
      "metadata": {
        "id": "0RLkWBjqOzC9"
      },
      "source": [
        "metadata_csv = '/content/drive/MyDrive/MyDrive/carvana-image-masking-challenge/metadata.csv'\n",
        "train_masks_csv = '/content/drive/MyDrive/MyDrive/carvana-image-masking-challenge/train_masks.csv'\n",
        "train_data = '/content/drive/MyDrive/MyDrive/carvana-image-masking-challenge/images/train'\n",
        "train_masks_data = '/content/drive/MyDrive/MyDrive/carvana-image-masking-challenge/images/train_masks'\n",
        "test_data = '/content/drive/MyDrive/MyDrive/carvana-image-masking-challenge/images/test'"
      ],
      "execution_count": 18,
      "outputs": []
    },
    {
      "cell_type": "code",
      "metadata": {
        "id": "Dgrq8A0cRmN4"
      },
      "source": [
        "metadata_df = pd.read_csv(metadata_csv)\n",
        "train_masks_df = pd.read_csv(train_masks_csv)"
      ],
      "execution_count": 19,
      "outputs": []
    },
    {
      "cell_type": "code",
      "metadata": {
        "colab": {
          "base_uri": "https://localhost:8080/",
          "height": 204
        },
        "id": "gxV_0EpKSAuS",
        "outputId": "391bb834-e58b-43c0-a49f-3697499f5e2f"
      },
      "source": [
        "metadata_df.head()"
      ],
      "execution_count": 20,
      "outputs": [
        {
          "output_type": "execute_result",
          "data": {
            "text/html": [
              "<div>\n",
              "<style scoped>\n",
              "    .dataframe tbody tr th:only-of-type {\n",
              "        vertical-align: middle;\n",
              "    }\n",
              "\n",
              "    .dataframe tbody tr th {\n",
              "        vertical-align: top;\n",
              "    }\n",
              "\n",
              "    .dataframe thead th {\n",
              "        text-align: right;\n",
              "    }\n",
              "</style>\n",
              "<table border=\"1\" class=\"dataframe\">\n",
              "  <thead>\n",
              "    <tr style=\"text-align: right;\">\n",
              "      <th></th>\n",
              "      <th>id</th>\n",
              "      <th>year</th>\n",
              "      <th>make</th>\n",
              "      <th>model</th>\n",
              "      <th>trim1</th>\n",
              "      <th>trim2</th>\n",
              "    </tr>\n",
              "  </thead>\n",
              "  <tbody>\n",
              "    <tr>\n",
              "      <th>0</th>\n",
              "      <td>0004d4463b50</td>\n",
              "      <td>2014.0</td>\n",
              "      <td>Acura</td>\n",
              "      <td>TL</td>\n",
              "      <td>TL</td>\n",
              "      <td>w/SE</td>\n",
              "    </tr>\n",
              "    <tr>\n",
              "      <th>1</th>\n",
              "      <td>00087a6bd4dc</td>\n",
              "      <td>2014.0</td>\n",
              "      <td>Acura</td>\n",
              "      <td>RLX</td>\n",
              "      <td>RLX</td>\n",
              "      <td>w/Tech</td>\n",
              "    </tr>\n",
              "    <tr>\n",
              "      <th>2</th>\n",
              "      <td>000aa097d423</td>\n",
              "      <td>2012.0</td>\n",
              "      <td>Mazda</td>\n",
              "      <td>MAZDA6</td>\n",
              "      <td>MAZDA6</td>\n",
              "      <td>i Sport</td>\n",
              "    </tr>\n",
              "    <tr>\n",
              "      <th>3</th>\n",
              "      <td>000f19f6e7d4</td>\n",
              "      <td>2016.0</td>\n",
              "      <td>Chevrolet</td>\n",
              "      <td>Camaro</td>\n",
              "      <td>Camaro</td>\n",
              "      <td>SS</td>\n",
              "    </tr>\n",
              "    <tr>\n",
              "      <th>4</th>\n",
              "      <td>00144e887ae9</td>\n",
              "      <td>2015.0</td>\n",
              "      <td>Acura</td>\n",
              "      <td>TLX</td>\n",
              "      <td>TLX</td>\n",
              "      <td>SH-AWD V6 w/Advance Pkg</td>\n",
              "    </tr>\n",
              "  </tbody>\n",
              "</table>\n",
              "</div>"
            ],
            "text/plain": [
              "             id    year       make   model   trim1                    trim2\n",
              "0  0004d4463b50  2014.0      Acura      TL      TL                     w/SE\n",
              "1  00087a6bd4dc  2014.0      Acura     RLX     RLX                   w/Tech\n",
              "2  000aa097d423  2012.0      Mazda  MAZDA6  MAZDA6                  i Sport\n",
              "3  000f19f6e7d4  2016.0  Chevrolet  Camaro  Camaro                       SS\n",
              "4  00144e887ae9  2015.0      Acura     TLX     TLX  SH-AWD V6 w/Advance Pkg"
            ]
          },
          "metadata": {},
          "execution_count": 20
        }
      ]
    },
    {
      "cell_type": "code",
      "metadata": {
        "colab": {
          "base_uri": "https://localhost:8080/",
          "height": 204
        },
        "id": "hz6DR5RmSgiw",
        "outputId": "b674d84f-ac65-4807-ab3d-48a37eeb69f7"
      },
      "source": [
        "train_masks_df.head()"
      ],
      "execution_count": 21,
      "outputs": [
        {
          "output_type": "execute_result",
          "data": {
            "text/html": [
              "<div>\n",
              "<style scoped>\n",
              "    .dataframe tbody tr th:only-of-type {\n",
              "        vertical-align: middle;\n",
              "    }\n",
              "\n",
              "    .dataframe tbody tr th {\n",
              "        vertical-align: top;\n",
              "    }\n",
              "\n",
              "    .dataframe thead th {\n",
              "        text-align: right;\n",
              "    }\n",
              "</style>\n",
              "<table border=\"1\" class=\"dataframe\">\n",
              "  <thead>\n",
              "    <tr style=\"text-align: right;\">\n",
              "      <th></th>\n",
              "      <th>img</th>\n",
              "      <th>rle_mask</th>\n",
              "    </tr>\n",
              "  </thead>\n",
              "  <tbody>\n",
              "    <tr>\n",
              "      <th>0</th>\n",
              "      <td>00087a6bd4dc_01.jpg</td>\n",
              "      <td>879386 40 881253 141 883140 205 885009 17 8850...</td>\n",
              "    </tr>\n",
              "    <tr>\n",
              "      <th>1</th>\n",
              "      <td>00087a6bd4dc_02.jpg</td>\n",
              "      <td>873779 4 875695 7 877612 9 879528 12 881267 15...</td>\n",
              "    </tr>\n",
              "    <tr>\n",
              "      <th>2</th>\n",
              "      <td>00087a6bd4dc_03.jpg</td>\n",
              "      <td>864300 9 866217 13 868134 15 870051 16 871969 ...</td>\n",
              "    </tr>\n",
              "    <tr>\n",
              "      <th>3</th>\n",
              "      <td>00087a6bd4dc_04.jpg</td>\n",
              "      <td>879735 20 881650 26 883315 92 883564 30 885208...</td>\n",
              "    </tr>\n",
              "    <tr>\n",
              "      <th>4</th>\n",
              "      <td>00087a6bd4dc_05.jpg</td>\n",
              "      <td>883365 74 883638 28 885262 119 885550 34 88716...</td>\n",
              "    </tr>\n",
              "  </tbody>\n",
              "</table>\n",
              "</div>"
            ],
            "text/plain": [
              "                   img                                           rle_mask\n",
              "0  00087a6bd4dc_01.jpg  879386 40 881253 141 883140 205 885009 17 8850...\n",
              "1  00087a6bd4dc_02.jpg  873779 4 875695 7 877612 9 879528 12 881267 15...\n",
              "2  00087a6bd4dc_03.jpg  864300 9 866217 13 868134 15 870051 16 871969 ...\n",
              "3  00087a6bd4dc_04.jpg  879735 20 881650 26 883315 92 883564 30 885208...\n",
              "4  00087a6bd4dc_05.jpg  883365 74 883638 28 885262 119 885550 34 88716..."
            ]
          },
          "metadata": {},
          "execution_count": 21
        }
      ]
    },
    {
      "cell_type": "code",
      "metadata": {
        "colab": {
          "base_uri": "https://localhost:8080/",
          "height": 231
        },
        "id": "ELcvg-FGUx0m",
        "outputId": "c1fdebf6-9742-42a2-9e23-f5de47ab76c3"
      },
      "source": [
        "train_files = os.listdir(train_data)\n",
        "train_mask_files = os.listdir(train_masks_data)\n",
        "test_files = os.listdir(test_data)\n",
        "print(\"Train files count:\", len(train_files))\n",
        "print(\"Train mask files count:\", len(train_mask_files))\n",
        "print(\"Test files count:\", len(test_files))"
      ],
      "execution_count": 22,
      "outputs": [
        {
          "output_type": "error",
          "ename": "OSError",
          "evalue": "ignored",
          "traceback": [
            "\u001b[0;31m---------------------------------------------------------------------------\u001b[0m",
            "\u001b[0;31mOSError\u001b[0m                                   Traceback (most recent call last)",
            "\u001b[0;32m<ipython-input-22-6040bdbe5c46>\u001b[0m in \u001b[0;36m<module>\u001b[0;34m()\u001b[0m\n\u001b[1;32m      1\u001b[0m \u001b[0mtrain_files\u001b[0m \u001b[0;34m=\u001b[0m \u001b[0mos\u001b[0m\u001b[0;34m.\u001b[0m\u001b[0mlistdir\u001b[0m\u001b[0;34m(\u001b[0m\u001b[0mtrain_data\u001b[0m\u001b[0;34m)\u001b[0m\u001b[0;34m\u001b[0m\u001b[0;34m\u001b[0m\u001b[0m\n\u001b[1;32m      2\u001b[0m \u001b[0mtrain_mask_files\u001b[0m \u001b[0;34m=\u001b[0m \u001b[0mos\u001b[0m\u001b[0;34m.\u001b[0m\u001b[0mlistdir\u001b[0m\u001b[0;34m(\u001b[0m\u001b[0mtrain_masks_data\u001b[0m\u001b[0;34m)\u001b[0m\u001b[0;34m\u001b[0m\u001b[0;34m\u001b[0m\u001b[0m\n\u001b[0;32m----> 3\u001b[0;31m \u001b[0mtest_files\u001b[0m \u001b[0;34m=\u001b[0m \u001b[0mos\u001b[0m\u001b[0;34m.\u001b[0m\u001b[0mlistdir\u001b[0m\u001b[0;34m(\u001b[0m\u001b[0mtest_data\u001b[0m\u001b[0;34m)\u001b[0m\u001b[0;34m\u001b[0m\u001b[0;34m\u001b[0m\u001b[0m\n\u001b[0m\u001b[1;32m      4\u001b[0m \u001b[0mprint\u001b[0m\u001b[0;34m(\u001b[0m\u001b[0;34m\"Train files count:\"\u001b[0m\u001b[0;34m,\u001b[0m \u001b[0mlen\u001b[0m\u001b[0;34m(\u001b[0m\u001b[0mtrain_files\u001b[0m\u001b[0;34m)\u001b[0m\u001b[0;34m)\u001b[0m\u001b[0;34m\u001b[0m\u001b[0;34m\u001b[0m\u001b[0m\n\u001b[1;32m      5\u001b[0m \u001b[0mprint\u001b[0m\u001b[0;34m(\u001b[0m\u001b[0;34m\"Train mask files count:\"\u001b[0m\u001b[0;34m,\u001b[0m \u001b[0mlen\u001b[0m\u001b[0;34m(\u001b[0m\u001b[0mtrain_mask_files\u001b[0m\u001b[0;34m)\u001b[0m\u001b[0;34m)\u001b[0m\u001b[0;34m\u001b[0m\u001b[0;34m\u001b[0m\u001b[0m\n",
            "\u001b[0;31mOSError\u001b[0m: [Errno 5] Input/output error: '/content/drive/MyDrive/MyDrive/carvana-image-masking-challenge/images/test'"
          ]
        }
      ]
    },
    {
      "cell_type": "code",
      "metadata": {
        "id": "0XxuIks1eipE"
      },
      "source": [
        "# metadata_df.rename({'image_id':'image_name'}, axis=1, inplace=True) # ? Pretty sure this was already done\n",
        "# metadata_df.head()"
      ],
      "execution_count": null,
      "outputs": []
    },
    {
      "cell_type": "code",
      "metadata": {
        "id": "32eg4IYL5Qk6"
      },
      "source": [
        "# Get unique ids for each of the photos in train and test datasets\n",
        "train_ids = []\n",
        "for n in train_files:\n",
        "  train_ids.append(n.split(\"_\")[0])\n",
        "\n",
        "test_ids = []\n",
        "for n in test_files:\n",
        "  test_ids.append(n.split(\"_\")[0])\n",
        "\n",
        "train_mask_ids = []\n",
        "for n in train_mask_files:\n",
        "  train_mask_ids.append(n.split(\"_\")[0])"
      ],
      "execution_count": null,
      "outputs": []
    },
    {
      "cell_type": "code",
      "metadata": {
        "id": "R_pDKWNwKUyc"
      },
      "source": [
        "# Using the training images and their masks, we want to create pairs of \n",
        "# NumPy matrices, in order to display each training image and it's mask as \n",
        "# images, as well as get their dimensions. We also need to trace an image to\n",
        "# the path of it's training or testing ID.\n",
        "\n",
        "# But, not all training images have an associated mask. Each training, test, and\n",
        "# training mask file has an ID. If some training image has a training mask,\n",
        "# they will share an id.\n",
        "\n",
        "# Note: One ID is shared across it's testing, training, and/or mask image set.\n",
        "\n",
        "# Example format of each file:\n",
        "# * train_files[0]: 0cdf5b5d0ce1_01.jpg\n",
        "# * train_mask_files[0]: cf65b1c5e147_09_mask.gif\n",
        "# * test_files[0]: 3a2e36d7cd6a_01.jpg\n",
        "# * train_ids[0]: cf65b1c5e147\n",
        "# * train_mask_ids[0]: cf65b1c5e147\n",
        "# * test_ids[0]: 0004d4463b50\n",
        "\n",
        "def GetCarImageFiles(car_image_id, get_mask=False):\n",
        "  if get_mask:\n",
        "    if car_image_id in train_mask_ids:\n",
        "      for n in train_mask_files:\n",
        "        if car_image_id in n:\n",
        "          return [train_masks_data + \"/\" + n]\n",
        "    else:\n",
        "      raise Exception(\"Input image does not have a mask ID\")\n",
        "  elif car_image_id in train_ids:\n",
        "    for n in train_files:\n",
        "      if car_image_id in n:\n",
        "        return [train_data + \"/\" + n]\n",
        "  elif car_image_id in test_ids:\n",
        "    for n in test_files:\n",
        "      if car_image_id in n:\n",
        "        return [test_data + \"/\" + n]\n",
        "  else:\n",
        "    raise Exception(\"No test, train, or mask image with this ID found\")\n",
        "\n",
        "def GetImageMatrix(image_path):\n",
        "  img = Image.open(image_path)\n",
        "  return np.asarray(img, dtype=np.uint8)"
      ],
      "execution_count": null,
      "outputs": []
    },
    {
      "cell_type": "code",
      "metadata": {
        "id": "_8QwRecwSetR"
      },
      "source": [
        "# Display single car with associated mask\n",
        "\n",
        "# Get image and mask\n",
        "path_to_mask = GetCarImageFiles(train_ids[0], get_mask=True)\n",
        "mask = GetImageMatrix(path_to_mask[0])\n",
        "path_to_image = GetCarImageFiles(train_ids[0])\n",
        "image = GetImageMatrix(path_to_image[0])\n",
        "dest_and = cv2.bitwise_and(image, image, mask=mask)\n",
        "\n",
        "print(\"Image shape:\", image.shape)\n",
        "print(\"Image type:\", image.dtype)\n",
        "print(\"Mask shape:\", mask.shape)\n",
        "print(\"Mask type:\", mask.dtype)\n",
        "\n",
        "plt.figure(figsize=(20,20))\n",
        "plt.subplot(1, 3, 1)\n",
        "plt.imshow(image)\n",
        "plt.subplot(1, 3, 2)\n",
        "plt.imshow(mask)\n",
        "plt.subplot(1, 3, 3)\n",
        "plt.imshow(dest_and)"
      ],
      "execution_count": null,
      "outputs": []
    },
    {
      "cell_type": "code",
      "metadata": {
        "id": "Y10kTsliSMSL"
      },
      "source": [
        "# Defining the model\n",
        "base_model = tf.keras.applications.MobileNetV2(input_shape=[128, 128, 3], include_top=False)\n",
        "\n",
        "layer_names = [\n",
        "  'block_1_expand_relu',\n",
        "  'block_3_expand_relu',\n",
        "  'block_6_expand_relu',\n",
        "  'block_13_expand_relu',\n",
        "  'block_16_project'\n",
        "]\n",
        "\n",
        "base_model_outputs = [base_model.get_layer(name).output for name in layer_names]\n",
        "\n",
        "# Feature extraction model\n",
        "down_stack = tf.keras.Model(inputs=base_model.input, outputs=base_model_outputs)\n",
        "\n",
        "down_stack.trainable = False"
      ],
      "execution_count": null,
      "outputs": []
    },
    {
      "cell_type": "code",
      "metadata": {
        "id": "fZsMN5Z_zpYS"
      },
      "source": [
        "up_stack = [\n",
        "    pix2pix.upsample(512, 3),  # 4x4 -> 8x8\n",
        "    pix2pix.upsample(256, 3),  # 8x8 -> 16x16\n",
        "    pix2pix.upsample(128, 3),  # 16x16 -> 32x32\n",
        "    pix2pix.upsample(64, 3),   # 32x32 -> 64x64\n",
        "]"
      ],
      "execution_count": null,
      "outputs": []
    },
    {
      "cell_type": "code",
      "metadata": {
        "id": "pov_NKFNzsFB"
      },
      "source": [
        "def unet_model(output_channels:int):\n",
        "  inputs = tf.keras.layers.Input(shape=[128, 128, 3])\n",
        "\n",
        "  # Downsampling through the model\n",
        "  skips = down_stack(inputs)\n",
        "  x = skips[-1]\n",
        "  skips = reversed(skips[:-1])\n",
        "\n",
        "  # Upsampling and establishing the skip connections\n",
        "  for up, skip in zip(up_stack, skips):\n",
        "    x = up(x)\n",
        "    concat = tf.keras.layers.Concatenate()\n",
        "    x = concat([x, skip])\n",
        "\n",
        "  # This is the last layer of the model\n",
        "  last = tf.keras.layers.Conv2DTranspose(\n",
        "      filters=output_channels, kernel_size=3, strides=2,\n",
        "      padding='same')  #64x64 -> 128x128\n",
        "\n",
        "  x = last(x)\n",
        "\n",
        "  return tf.keras.Model(inputs=inputs, outputs=x)"
      ],
      "execution_count": null,
      "outputs": []
    },
    {
      "cell_type": "code",
      "metadata": {
        "id": "abr1XGV10CZD"
      },
      "source": [
        ""
      ],
      "execution_count": null,
      "outputs": []
    }
  ]
}