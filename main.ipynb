{
  "nbformat": 4,
  "nbformat_minor": 0,
  "metadata": {
    "colab": {
      "name": "main.ipynb",
      "provenance": [],
      "collapsed_sections": [],
      "include_colab_link": true
    },
    "kernelspec": {
      "name": "python3",
      "display_name": "Python 3"
    },
    "language_info": {
      "name": "python"
    }
  },
  "cells": [
    {
      "cell_type": "markdown",
      "metadata": {
        "id": "view-in-github",
        "colab_type": "text"
      },
      "source": [
        "<a href=\"https://colab.research.google.com/github/Seligmann/carvana-image-masking-challenge/blob/main/main.ipynb\" target=\"_parent\"><img src=\"https://colab.research.google.com/assets/colab-badge.svg\" alt=\"Open In Colab\"/></a>"
      ]
    },
    {
      "cell_type": "code",
      "metadata": {
        "id": "pNLSVYeKSriX",
        "colab": {
          "base_uri": "https://localhost:8080/"
        },
        "outputId": "4bac231c-5661-420f-9635-496dae12aa7b"
      },
      "source": [
        "from google.colab import drive\n",
        "drive.mount('/content/drive')"
      ],
      "execution_count": 29,
      "outputs": [
        {
          "output_type": "stream",
          "name": "stdout",
          "text": [
            "Drive already mounted at /content/drive; to attempt to forcibly remount, call drive.mount(\"/content/drive\", force_remount=True).\n"
          ]
        }
      ]
    },
    {
      "cell_type": "code",
      "metadata": {
        "id": "hrrfjCKxc1-O"
      },
      "source": [
        "import tensorflow as tf\n",
        "from tensorflow.keras.layers.experimental import preprocessing \n",
        "import os\n",
        "import PIL\n",
        "import numpy as np\n",
        "import pathlib\n",
        "import pandas as pd\n",
        "\n",
        "import tensorflow_datasets as tfds"
      ],
      "execution_count": 30,
      "outputs": []
    },
    {
      "cell_type": "code",
      "metadata": {
        "id": "nKZQPXmFWE8G"
      },
      "source": [
        "from IPython.display import clear_output\n",
        "import matplotlib.pyplot as plt"
      ],
      "execution_count": 31,
      "outputs": []
    },
    {
      "cell_type": "code",
      "metadata": {
        "id": "6Jz8SrtHqkmj"
      },
      "source": [
        "import os\n",
        "\n",
        "# # Upload the API token.\n",
        "# def get_kaggle_credentials():\n",
        "#   token_dir = os.path.join(os.path.expanduser(\"~\"),\".kaggle\")\n",
        "#   token_file = os.path.join(token_dir, \"kaggle.json\")\n",
        "#   if not os.path.isdir(token_dir):\n",
        "#     os.mkdir(token_dir)\n",
        "#   try:\n",
        "#     with open(token_file,'r') as f:\n",
        "#       pass\n",
        "#   except IOError as no_file:\n",
        "#     try:\n",
        "#       from google.colab import files\n",
        "#     except ImportError:\n",
        "#       raise no_file\n",
        "    \n",
        "#     uploaded = files.upload()\n",
        "    \n",
        "#     if \"kaggle.json\" not in uploaded:\n",
        "#       raise ValueError(\"You need an API key! see: \"\n",
        "#                        \"https://github.com/Kaggle/kaggle-api#api-credentials\")\n",
        "#     with open(token_file, \"wb\") as f:\n",
        "#       f.write(uploaded[\"kaggle.json\"])\n",
        "#     os.chmod(token_file, 600)\n",
        "\n",
        "# get_kaggle_credentials()"
      ],
      "execution_count": 32,
      "outputs": []
    },
    {
      "cell_type": "code",
      "metadata": {
        "id": "ju6gPpLSvvkc"
      },
      "source": [
        "# import kaggle"
      ],
      "execution_count": 33,
      "outputs": []
    },
    {
      "cell_type": "code",
      "metadata": {
        "id": "YzrXci7lM26d"
      },
      "source": [
        "# Download competition data to /content\n",
        "# !kaggle competitions download -c carvana-image-masking-challenge"
      ],
      "execution_count": 34,
      "outputs": []
    },
    {
      "cell_type": "code",
      "metadata": {
        "id": "0RLkWBjqOzC9"
      },
      "source": [
        "metadata_csv = '/content/drive/MyDrive/MyDrive/carvana-image-masking-challenge/metadata.csv'\n",
        "train_masks_csv = '/content/drive/MyDrive/MyDrive/carvana-image-masking-challenge/train_masks.csv'\n",
        "train_data = '/content/drive/MyDrive/MyDrive/carvana-image-masking-challenge/images/train'\n",
        "train_masks_data = '/content/drive/MyDrive/MyDrive/carvana-image-masking-challenge/images/train_masks'\n",
        "test_data = '/content/drive/MyDrive/MyDrive/carvana-image-masking-challenge/images/test'"
      ],
      "execution_count": 35,
      "outputs": []
    },
    {
      "cell_type": "code",
      "metadata": {
        "id": "Dgrq8A0cRmN4"
      },
      "source": [
        "metadata_df = pd.read_csv(metadata_csv)\n",
        "train_masks_df = pd.read_csv(train_masks_csv)"
      ],
      "execution_count": 36,
      "outputs": []
    },
    {
      "cell_type": "code",
      "metadata": {
        "colab": {
          "base_uri": "https://localhost:8080/",
          "height": 204
        },
        "id": "gxV_0EpKSAuS",
        "outputId": "c87d097c-8098-442c-afc6-de4b2563954b"
      },
      "source": [
        "metadata_df.head()"
      ],
      "execution_count": 37,
      "outputs": [
        {
          "output_type": "execute_result",
          "data": {
            "text/html": [
              "<div>\n",
              "<style scoped>\n",
              "    .dataframe tbody tr th:only-of-type {\n",
              "        vertical-align: middle;\n",
              "    }\n",
              "\n",
              "    .dataframe tbody tr th {\n",
              "        vertical-align: top;\n",
              "    }\n",
              "\n",
              "    .dataframe thead th {\n",
              "        text-align: right;\n",
              "    }\n",
              "</style>\n",
              "<table border=\"1\" class=\"dataframe\">\n",
              "  <thead>\n",
              "    <tr style=\"text-align: right;\">\n",
              "      <th></th>\n",
              "      <th>id</th>\n",
              "      <th>year</th>\n",
              "      <th>make</th>\n",
              "      <th>model</th>\n",
              "      <th>trim1</th>\n",
              "      <th>trim2</th>\n",
              "    </tr>\n",
              "  </thead>\n",
              "  <tbody>\n",
              "    <tr>\n",
              "      <th>0</th>\n",
              "      <td>0004d4463b50</td>\n",
              "      <td>2014.0</td>\n",
              "      <td>Acura</td>\n",
              "      <td>TL</td>\n",
              "      <td>TL</td>\n",
              "      <td>w/SE</td>\n",
              "    </tr>\n",
              "    <tr>\n",
              "      <th>1</th>\n",
              "      <td>00087a6bd4dc</td>\n",
              "      <td>2014.0</td>\n",
              "      <td>Acura</td>\n",
              "      <td>RLX</td>\n",
              "      <td>RLX</td>\n",
              "      <td>w/Tech</td>\n",
              "    </tr>\n",
              "    <tr>\n",
              "      <th>2</th>\n",
              "      <td>000aa097d423</td>\n",
              "      <td>2012.0</td>\n",
              "      <td>Mazda</td>\n",
              "      <td>MAZDA6</td>\n",
              "      <td>MAZDA6</td>\n",
              "      <td>i Sport</td>\n",
              "    </tr>\n",
              "    <tr>\n",
              "      <th>3</th>\n",
              "      <td>000f19f6e7d4</td>\n",
              "      <td>2016.0</td>\n",
              "      <td>Chevrolet</td>\n",
              "      <td>Camaro</td>\n",
              "      <td>Camaro</td>\n",
              "      <td>SS</td>\n",
              "    </tr>\n",
              "    <tr>\n",
              "      <th>4</th>\n",
              "      <td>00144e887ae9</td>\n",
              "      <td>2015.0</td>\n",
              "      <td>Acura</td>\n",
              "      <td>TLX</td>\n",
              "      <td>TLX</td>\n",
              "      <td>SH-AWD V6 w/Advance Pkg</td>\n",
              "    </tr>\n",
              "  </tbody>\n",
              "</table>\n",
              "</div>"
            ],
            "text/plain": [
              "             id    year       make   model   trim1                    trim2\n",
              "0  0004d4463b50  2014.0      Acura      TL      TL                     w/SE\n",
              "1  00087a6bd4dc  2014.0      Acura     RLX     RLX                   w/Tech\n",
              "2  000aa097d423  2012.0      Mazda  MAZDA6  MAZDA6                  i Sport\n",
              "3  000f19f6e7d4  2016.0  Chevrolet  Camaro  Camaro                       SS\n",
              "4  00144e887ae9  2015.0      Acura     TLX     TLX  SH-AWD V6 w/Advance Pkg"
            ]
          },
          "metadata": {},
          "execution_count": 37
        }
      ]
    },
    {
      "cell_type": "code",
      "metadata": {
        "colab": {
          "base_uri": "https://localhost:8080/",
          "height": 204
        },
        "id": "hz6DR5RmSgiw",
        "outputId": "a80949e7-ea45-4e0a-ff2a-cedb00309196"
      },
      "source": [
        "train_masks_df.head()"
      ],
      "execution_count": 38,
      "outputs": [
        {
          "output_type": "execute_result",
          "data": {
            "text/html": [
              "<div>\n",
              "<style scoped>\n",
              "    .dataframe tbody tr th:only-of-type {\n",
              "        vertical-align: middle;\n",
              "    }\n",
              "\n",
              "    .dataframe tbody tr th {\n",
              "        vertical-align: top;\n",
              "    }\n",
              "\n",
              "    .dataframe thead th {\n",
              "        text-align: right;\n",
              "    }\n",
              "</style>\n",
              "<table border=\"1\" class=\"dataframe\">\n",
              "  <thead>\n",
              "    <tr style=\"text-align: right;\">\n",
              "      <th></th>\n",
              "      <th>img</th>\n",
              "      <th>rle_mask</th>\n",
              "    </tr>\n",
              "  </thead>\n",
              "  <tbody>\n",
              "    <tr>\n",
              "      <th>0</th>\n",
              "      <td>00087a6bd4dc_01.jpg</td>\n",
              "      <td>879386 40 881253 141 883140 205 885009 17 8850...</td>\n",
              "    </tr>\n",
              "    <tr>\n",
              "      <th>1</th>\n",
              "      <td>00087a6bd4dc_02.jpg</td>\n",
              "      <td>873779 4 875695 7 877612 9 879528 12 881267 15...</td>\n",
              "    </tr>\n",
              "    <tr>\n",
              "      <th>2</th>\n",
              "      <td>00087a6bd4dc_03.jpg</td>\n",
              "      <td>864300 9 866217 13 868134 15 870051 16 871969 ...</td>\n",
              "    </tr>\n",
              "    <tr>\n",
              "      <th>3</th>\n",
              "      <td>00087a6bd4dc_04.jpg</td>\n",
              "      <td>879735 20 881650 26 883315 92 883564 30 885208...</td>\n",
              "    </tr>\n",
              "    <tr>\n",
              "      <th>4</th>\n",
              "      <td>00087a6bd4dc_05.jpg</td>\n",
              "      <td>883365 74 883638 28 885262 119 885550 34 88716...</td>\n",
              "    </tr>\n",
              "  </tbody>\n",
              "</table>\n",
              "</div>"
            ],
            "text/plain": [
              "                   img                                           rle_mask\n",
              "0  00087a6bd4dc_01.jpg  879386 40 881253 141 883140 205 885009 17 8850...\n",
              "1  00087a6bd4dc_02.jpg  873779 4 875695 7 877612 9 879528 12 881267 15...\n",
              "2  00087a6bd4dc_03.jpg  864300 9 866217 13 868134 15 870051 16 871969 ...\n",
              "3  00087a6bd4dc_04.jpg  879735 20 881650 26 883315 92 883564 30 885208...\n",
              "4  00087a6bd4dc_05.jpg  883365 74 883638 28 885262 119 885550 34 88716..."
            ]
          },
          "metadata": {},
          "execution_count": 38
        }
      ]
    },
    {
      "cell_type": "code",
      "metadata": {
        "id": "ELcvg-FGUx0m",
        "colab": {
          "base_uri": "https://localhost:8080/"
        },
        "outputId": "091c9b53-5e83-4f6a-bd29-da724ef94c17"
      },
      "source": [
        "train_files = os.listdir(train_data)\n",
        "train_mask_files = os.listdir(train_masks_data)\n",
        "test_files = os.listdir(test_data)\n",
        "print(\"Train files count:\", len(train_files))\n",
        "print(\"Train mask files count:\", len(train_mask_files))\n",
        "print(\"Test files count:\", len(test_files))"
      ],
      "execution_count": 39,
      "outputs": [
        {
          "output_type": "stream",
          "name": "stdout",
          "text": [
            "Train files count: 5088\n",
            "Train mask files count: 5088\n",
            "Test files count: 100064\n"
          ]
        }
      ]
    },
    {
      "cell_type": "code",
      "metadata": {
        "id": "0XxuIks1eipE"
      },
      "source": [
        "# metadata_df.rename({'image_id':'image_name'}, axis=1, inplace=True) # ? Pretty sure this was already done\n",
        "# metadata_df.head()"
      ],
      "execution_count": 40,
      "outputs": []
    },
    {
      "cell_type": "code",
      "metadata": {
        "id": "32eg4IYL5Qk6"
      },
      "source": [
        "# Get unique ids for each of the photos in train and test datasets\n",
        "train_ids = []\n",
        "for n in train_files:\n",
        "  train_ids.append(n.split(\"_\")[0])\n",
        "\n",
        "test_ids = []\n",
        "for n in test_files:\n",
        "  test_ids.append(n.split(\"_\")[0])\n",
        "\n",
        "train_mask_ids = []\n",
        "for n in train_mask_files:\n",
        "  train_mask_ids.append(n.split(\"_\")[0])"
      ],
      "execution_count": 41,
      "outputs": []
    },
    {
      "cell_type": "code",
      "metadata": {
        "id": "R_pDKWNwKUyc"
      },
      "source": [
        "def GetCarImageFiles(car_image_id, get_mask=False):\n",
        "  if get_mask:\n",
        "    if car_image_id in masks_ids: # car id in mask ids?\n",
        "      for n in train_mask_files:\n",
        "        if car_image_id in n: # car id in training mask id?\n",
        "          return [train_masks_data + \"/\" + n]\n",
        "\n",
        "def GetImageMatrix(image_path):\n",
        "  img = Image.open(image_path)\n",
        "  return np.asarray(img, dtype=np.uint8)"
      ],
      "execution_count": 66,
      "outputs": []
    },
    {
      "cell_type": "code",
      "metadata": {
        "colab": {
          "base_uri": "https://localhost:8080/"
        },
        "id": "_8QwRecwSetR",
        "outputId": "a6a7739d-7a74-4b76-f917-93ac81addbb0"
      },
      "source": [
        ""
      ],
      "execution_count": 67,
      "outputs": [
        {
          "output_type": "stream",
          "name": "stdout",
          "text": [
            "['/content/drive/MyDrive/MyDrive/carvana-image-masking-challenge/images/train/cf65b1c5e147_09.jpg', '/content/drive/MyDrive/MyDrive/carvana-image-masking-challenge/images/train/cf65b1c5e147_10.jpg', '/content/drive/MyDrive/MyDrive/carvana-image-masking-challenge/images/train/cf65b1c5e147_11.jpg', '/content/drive/MyDrive/MyDrive/carvana-image-masking-challenge/images/train/cf65b1c5e147_12.jpg', '/content/drive/MyDrive/MyDrive/carvana-image-masking-challenge/images/train/cf65b1c5e147_13.jpg', '/content/drive/MyDrive/MyDrive/carvana-image-masking-challenge/images/train/cf65b1c5e147_14.jpg', '/content/drive/MyDrive/MyDrive/carvana-image-masking-challenge/images/train/cf65b1c5e147_15.jpg', '/content/drive/MyDrive/MyDrive/carvana-image-masking-challenge/images/train/cf65b1c5e147_16.jpg', '/content/drive/MyDrive/MyDrive/carvana-image-masking-challenge/images/train/cf65b1c5e147_01.jpg', '/content/drive/MyDrive/MyDrive/carvana-image-masking-challenge/images/train/cf65b1c5e147_02.jpg', '/content/drive/MyDrive/MyDrive/carvana-image-masking-challenge/images/train/cf65b1c5e147_03.jpg', '/content/drive/MyDrive/MyDrive/carvana-image-masking-challenge/images/train/cf65b1c5e147_04.jpg', '/content/drive/MyDrive/MyDrive/carvana-image-masking-challenge/images/train/cf65b1c5e147_05.jpg', '/content/drive/MyDrive/MyDrive/carvana-image-masking-challenge/images/train/cf65b1c5e147_06.jpg', '/content/drive/MyDrive/MyDrive/carvana-image-masking-challenge/images/train/cf65b1c5e147_07.jpg', '/content/drive/MyDrive/MyDrive/carvana-image-masking-challenge/images/train/cf65b1c5e147_08.jpg']\n",
            "cf65b1c5e147\n",
            "/\n"
          ]
        }
      ]
    },
    {
      "cell_type": "code",
      "metadata": {
        "id": "p8lRfY0PXYLn"
      },
      "source": [
        ""
      ],
      "execution_count": null,
      "outputs": []
    }
  ]
}